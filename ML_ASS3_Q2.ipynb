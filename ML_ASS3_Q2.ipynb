{
  "nbformat": 4,
  "nbformat_minor": 0,
  "metadata": {
    "colab": {
      "provenance": [],
      "authorship_tag": "ABX9TyMVJL4Djn5fCJiAkeTpuvwW",
      "include_colab_link": true
    },
    "kernelspec": {
      "name": "python3",
      "display_name": "Python 3"
    },
    "language_info": {
      "name": "python"
    }
  },
  "cells": [
    {
      "cell_type": "markdown",
      "metadata": {
        "id": "view-in-github",
        "colab_type": "text"
      },
      "source": [
        "<a href=\"https://colab.research.google.com/github/sathvik044/ML-ASS3-Q2/blob/main/ML_ASS3_Q2.ipynb\" target=\"_parent\"><img src=\"https://colab.research.google.com/assets/colab-badge.svg\" alt=\"Open In Colab\"/></a>"
      ]
    },
    {
      "cell_type": "code",
      "execution_count": 1,
      "metadata": {
        "colab": {
          "base_uri": "https://localhost:8080/"
        },
        "id": "42tWrDqj4VXT",
        "outputId": "8a2d80ed-3867-46d1-f5d5-d39a72a0a824"
      },
      "outputs": [
        {
          "output_type": "stream",
          "name": "stdout",
          "text": [
            "Vector X (1x10 vector): [12  5  9 18 22 35 44 28 13 17]\n",
            "Vector Y (1x10 vector): [14  7 11 20 25 38 42 30 16 19]\n",
            "Covariance: 139.3778\n"
          ]
        }
      ],
      "source": [
        "import numpy as np\n",
        "\n",
        "M = 10\n",
        "vector_x = np.array([12, 5, 9, 18, 22, 35, 44, 28, 13, 17])\n",
        "vector_y = np.array([14, 7, 11, 20, 25, 38, 42, 30, 16, 19])\n",
        "\n",
        "mean_x = np.mean(vector_x)\n",
        "mean_y = np.mean(vector_y)\n",
        "\n",
        "covariance = np.sum((vector_x - mean_x) * (vector_y - mean_y)) / (M - 1)\n",
        "\n",
        "print(f'Vector X (1x{M} vector): {vector_x}')\n",
        "print(f'Vector Y (1x{M} vector): {vector_y}')\n",
        "print(f'Covariance: {covariance:.4f}')\n"
      ]
    }
  ]
}